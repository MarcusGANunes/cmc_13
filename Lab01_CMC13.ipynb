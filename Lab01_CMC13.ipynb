{
 "cells": [
  {
   "cell_type": "markdown",
   "metadata": {},
   "source": [
    "# **CMC-13 Preparação de dados**\n",
    "## *Equipe: Nomes dos alunos*\n"
   ]
  },
  {
   "cell_type": "markdown",
   "metadata": {},
   "source": [
    "### Parte1 - Preparação dos dados"
   ]
  },
  {
   "cell_type": "code",
   "execution_count": 42,
   "metadata": {},
   "outputs": [
    {
     "name": "stdout",
     "output_type": "stream",
     "text": [
      "Diretório atual: c:\\Users\\Vitorugo\\OneDrive\\Documentos\\AESP-3SEMESTRE\\CMC-13\\LAB01\n",
      "Arquivos no diretório: ['books.csv', 'cmc13_lab1_preparacao_dados_knn.pdf', 'cmc13_Visualizacao_Dados_com_Python.ipynb', 'Lab01_CMC13.ipynb', 'ratings.csv', 'Teste.py', 'users.csv']\n"
     ]
    }
   ],
   "source": [
    "import os\n",
    "#Para conferir o diretório atual\n",
    "diretorio_atual = os.getcwd()\n",
    "print(\"Diretório atual:\", diretorio_atual)\n",
    "\n",
    "# Para listar todos os arquivos no diretório atual\n",
    "arquivos_no_diretorio = os.listdir(diretorio_atual)\n",
    "print(\"Arquivos no diretório:\", arquivos_no_diretorio)\n"
   ]
  },
  {
   "cell_type": "code",
   "execution_count": 43,
   "metadata": {},
   "outputs": [
    {
     "name": "stdout",
     "output_type": "stream",
     "text": [
      "            isbn                            book_title       book_author  \\\n",
      "0     0440234743                         The Testament      John Grisham   \n",
      "1     0452264464  Beloved (Plume Contemporary Fiction)     Toni Morrison   \n",
      "2     0971880107                           Wild Animus      Rich Shapero   \n",
      "3     0345402871                              Airframe  Michael Crichton   \n",
      "4     0345417623                              Timeline  MICHAEL CRICHTON   \n",
      "...          ...                                   ...               ...   \n",
      "1019  0767905202                             Mr. Maybe        Jane Green   \n",
      "1020  0451169514                                    It      Stephen King   \n",
      "1021  0312971125                         Crazy for You   Jennifer Crusie   \n",
      "1022  0812543262                                 Relic   Douglas Preston   \n",
      "1023  067169507X                      SEAT OF THE SOUL        Gary Zukav   \n",
      "\n",
      "      year_of_publication           publisher  \\\n",
      "0                  1999.0                Dell   \n",
      "1                  1994.0               Plume   \n",
      "2                  2004.0             Too Far   \n",
      "3                  1997.0    Ballantine Books   \n",
      "4                  2000.0    Ballantine Books   \n",
      "...                   ...                 ...   \n",
      "1019               2002.0      Broadway Books   \n",
      "1020               1997.0         Signet Book   \n",
      "1021               2000.0  St. Martin's Press   \n",
      "1022               2003.0           Tor Books   \n",
      "1023               1990.0          Free Press   \n",
      "\n",
      "                                                  img_l Language  \\\n",
      "0     http://images.amazon.com/images/P/0440234743.0...       en   \n",
      "1     http://images.amazon.com/images/P/0452264464.0...       en   \n",
      "2     http://images.amazon.com/images/P/0971880107.0...       en   \n",
      "3     http://images.amazon.com/images/P/0345402871.0...       en   \n",
      "4     http://images.amazon.com/images/P/0345417623.0...       en   \n",
      "...                                                 ...      ...   \n",
      "1019  http://images.amazon.com/images/P/0767905202.0...       en   \n",
      "1020  http://images.amazon.com/images/P/0451169514.0...       en   \n",
      "1021  http://images.amazon.com/images/P/0312971125.0...        9   \n",
      "1022  http://images.amazon.com/images/P/0812543262.0...       en   \n",
      "1023  http://images.amazon.com/images/P/067169507X.0...       en   \n",
      "\n",
      "                     Category  \n",
      "0                 ['Fiction']  \n",
      "1                 ['Fiction']  \n",
      "2                 ['Fiction']  \n",
      "3                 ['Fiction']  \n",
      "4                 ['Fiction']  \n",
      "...                       ...  \n",
      "1019              ['Fiction']  \n",
      "1020              ['Fiction']  \n",
      "1021                        9  \n",
      "1022              ['Fiction']  \n",
      "1023  ['Body, Mind & Spirit']  \n",
      "\n",
      "[1024 rows x 8 columns]\n"
     ]
    }
   ],
   "source": [
    "#Importando os três conjuntos de dados fornecidos em tabelas\n",
    "import pandas as pd\n",
    "books = pd.read_csv(\"books.csv\", delimiter=';')\n",
    "ratings = pd.read_csv(\"ratings.csv\", delimiter=';')\n",
    "users = pd.read_csv(\"users.csv\", delimiter=';')\n",
    "\n",
    "#só para visualizar se os dados estão ok\n",
    "print(books)\n",
    "#print(ratings)\n",
    "#print(users)"
   ]
  },
  {
   "cell_type": "markdown",
   "metadata": {},
   "source": [
    "##### Para as informações do usuário, temos as seguintes informações listadas:\n",
    "* User_id - Faz referência a um leitor único, e pode ser útil uma futura inferência pois permite identificar gostos individuais. Porém, vale ressaltar que o user_id precisa ser entendido como uma variável de classificação, e não como numérica.\n",
    "* age - Armazena a idade do leitor, e pode ser útil para identificar relações entre a idade de leitores e preferências de livros;\n",
    "* city - Armazena a cidade do leitor, e é uma informação bastante específica. Provavelmente as inferências obtidas com essa variável podem ser obtidas também com informação de estado e país;\n",
    "* state - Armazena o estado de leitor, e pode ser uma informação útil para obter relações entre opinião dos leitores e região em que vivem;\n",
    "* country - Armazena o país do leitor, e pode ser útil para identificar relações entre país e opinião a respeito dos livros;\n",
    "\n",
    "##### Para as informações do rating dos livros, temos as seguintes informações listadas:\n",
    "* isbn - É o id para um livro único. Não deve ser útil para inferências.\n",
    "* book title - Categoriza livros diferentes e pode ser útil para produzir inferências sobre as avaliações e livros específicos;\n",
    "* book author - Categoriza os autores diferentes e pode ser útil par aproduzir inferências sobre avaliações e autores;\n",
    "* year of publication - Categoriza livros em diferentes anos de publicação. Pode ser útil para produzir inferências sobre avaliações e época da publicação;\n",
    "* publisher - Categoriza os livros por diferentes publicadoras. Dificilmente terá grande importância na avaliação do livro;\n",
    "* img_l - Link para a imagem de capa. Não é uma informação útil para inferências;\n",
    "* Language - Categoriza os livros pelas línguas em que foram escritos. Pode ser útil para gerar conclusões sobre as avaliações e a linguagem do livro;\n",
    "* Category - Categoriza os livros pelo gênero literário. Pode ser útil para verificar a relação entre avaliações e gêneros.\n",
    "\n",
    "##### Para as informações da avaliação dos livros, temos as seguintes informações listadas:\n",
    "* isbn - Serve para realizar o join com a tabela de livros;\n",
    "* user_id - Serve para realizar o join com a tebela de leitores;\n",
    "* rating - Valor numérico para uma avaliação de livro. Esse parâmetro é obrigatório para a tabela final, pois ele é a variável de interesse do nosso problema;\n",
    "\n",
    "\n",
    "\n"
   ]
  },
  {
   "cell_type": "code",
   "execution_count": 44,
   "metadata": {},
   "outputs": [
    {
     "name": "stdout",
     "output_type": "stream",
     "text": [
      "              isbn  user_id  rating      age         city           state  \\\n",
      "7       0440234743     9419       5  34.7439    somewhere           texas   \n",
      "13      0440234743    12923      10  39.0000   louisville        kentucky   \n",
      "22      0440234743    20783       0  34.7439         york    pennsylvania   \n",
      "59      0440234743    55419       0  34.7439    cassville        missouri   \n",
      "68      0440234743    62667       8  53.0000       warsaw        virginia   \n",
      "...            ...      ...     ...      ...          ...             ...   \n",
      "163946  0971880107   273780       0  25.0000       carrum        victoria   \n",
      "163951  0312966091   100894       0  34.7439      seattle      washington   \n",
      "163957  0743225406   277651       8  38.0000      toronto         ontario   \n",
      "163959  0441790348   217934      10  46.0000   bennington         vermont   \n",
      "163973  0684874350   133635       0  34.7439  chapel hill  north carolina   \n",
      "\n",
      "          country                                         book_title  \\\n",
      "7             usa                                      The Testament   \n",
      "13            usa                                      The Testament   \n",
      "22            usa                                      The Testament   \n",
      "59            usa                                      The Testament   \n",
      "68            usa                                      The Testament   \n",
      "...           ...                                                ...   \n",
      "163946  australia                                        Wild Animus   \n",
      "163951        usa  Three To Get Deadly : A Stephanie Plum Novel (...   \n",
      "163957     canada                        The Shipping News : A Novel   \n",
      "163959        usa  Stranger in a Strange Land (Remembering Tomorrow)   \n",
      "163973        usa                                     ANGELA'S ASHES   \n",
      "\n",
      "               book_author  year_of_publication                publisher  \\\n",
      "7             John Grisham               1999.0                     Dell   \n",
      "13            John Grisham               1999.0                     Dell   \n",
      "22            John Grisham               1999.0                     Dell   \n",
      "59            John Grisham               1999.0                     Dell   \n",
      "68            John Grisham               1999.0                     Dell   \n",
      "...                    ...                  ...                      ...   \n",
      "163946        Rich Shapero               2004.0                  Too Far   \n",
      "163951     Janet Evanovich               1998.0  St. Martin's Paperbacks   \n",
      "163957        Annie Proulx               2001.0                 Scribner   \n",
      "163959  Robert A. Heinlein               1995.0              ACE Charter   \n",
      "163973       Frank McCourt               1996.0                 Scribner   \n",
      "\n",
      "                                                    img_l Language  \\\n",
      "7       http://images.amazon.com/images/P/0440234743.0...       en   \n",
      "13      http://images.amazon.com/images/P/0440234743.0...       en   \n",
      "22      http://images.amazon.com/images/P/0440234743.0...       en   \n",
      "59      http://images.amazon.com/images/P/0440234743.0...       en   \n",
      "68      http://images.amazon.com/images/P/0440234743.0...       en   \n",
      "...                                                   ...      ...   \n",
      "163946  http://images.amazon.com/images/P/0971880107.0...       en   \n",
      "163951  http://images.amazon.com/images/P/0312966091.0...       en   \n",
      "163957  http://images.amazon.com/images/P/0743225406.0...        9   \n",
      "163959  http://images.amazon.com/images/P/0441790348.0...       en   \n",
      "163973  http://images.amazon.com/images/P/0684874350.0...       en   \n",
      "\n",
      "                             Category  \n",
      "7                         ['Fiction']  \n",
      "13                        ['Fiction']  \n",
      "22                        ['Fiction']  \n",
      "59                        ['Fiction']  \n",
      "68                        ['Fiction']  \n",
      "...                               ...  \n",
      "163946                    ['Fiction']  \n",
      "163951                    ['Fiction']  \n",
      "163957                              9  \n",
      "163959                    ['Fiction']  \n",
      "163973  ['Biography & Autobiography']  \n",
      "\n",
      "[19720 rows x 14 columns]\n"
     ]
    }
   ],
   "source": [
    "#Fazendo o join de ratings e o usuário que deu aquela avaliação\n",
    "dataframe = pd.merge(ratings, users, how=\"left\", on= \"user_id\")\n",
    "\n",
    "#Fazendo o join de ratings e o livro que foi avaliado\n",
    "dataframe = pd.merge(dataframe, books, how=\"left\", on=\"isbn\")\n",
    "\n",
    "#Removendo as linhas em que foram obtidos informações NaN\n",
    "dataframe = dataframe.dropna()\n",
    "print(dataframe)\n",
    "\n",
    "#Quantidade de linhas e colunas do Dataframe produzido\n",
    "#linhas_col = dataframe.shape"
   ]
  },
  {
   "cell_type": "code",
   "execution_count": 47,
   "metadata": {},
   "outputs": [
    {
     "name": "stdout",
     "output_type": "stream",
     "text": [
      "Nomes das colunas: ['rating', 'age', 'city', 'state', 'country', 'book_title', 'book_author', 'year_of_publication', 'publisher', 'Language', 'Category']\n"
     ]
    },
    {
     "ename": "KeyError",
     "evalue": "\"['user_id', 'isbn', 'img_l'] not found in axis\"",
     "output_type": "error",
     "traceback": [
      "\u001b[1;31m---------------------------------------------------------------------------\u001b[0m",
      "\u001b[1;31mKeyError\u001b[0m                                  Traceback (most recent call last)",
      "Cell \u001b[1;32mIn[47], line 12\u001b[0m\n\u001b[0;32m      6\u001b[0m \u001b[38;5;66;03m# Imprima os nomes das colunas\u001b[39;00m\n\u001b[0;32m      7\u001b[0m \u001b[38;5;28mprint\u001b[39m(\u001b[38;5;124mf\u001b[39m\u001b[38;5;124m\"\u001b[39m\u001b[38;5;124mNomes das colunas: \u001b[39m\u001b[38;5;132;01m{\u001b[39;00mnomes_colunas\u001b[38;5;132;01m}\u001b[39;00m\u001b[38;5;124m\"\u001b[39m)\n\u001b[1;32m---> 12\u001b[0m dataframe \u001b[38;5;241m=\u001b[39m \u001b[43mdataframe\u001b[49m\u001b[38;5;241;43m.\u001b[39;49m\u001b[43mdrop\u001b[49m\u001b[43m(\u001b[49m\u001b[43mcolumns\u001b[49m\u001b[38;5;241;43m=\u001b[39;49m\u001b[43m[\u001b[49m\u001b[38;5;124;43m\"\u001b[39;49m\u001b[38;5;124;43muser_id\u001b[39;49m\u001b[38;5;124;43m\"\u001b[39;49m\u001b[43m,\u001b[49m\u001b[43m \u001b[49m\u001b[38;5;124;43m\"\u001b[39;49m\u001b[38;5;124;43misbn\u001b[39;49m\u001b[38;5;124;43m\"\u001b[39;49m\u001b[43m,\u001b[49m\u001b[43m \u001b[49m\u001b[38;5;124;43m\"\u001b[39;49m\u001b[38;5;124;43mimg_l\u001b[39;49m\u001b[38;5;124;43m\"\u001b[39;49m\u001b[43m]\u001b[49m\u001b[43m)\u001b[49m\n\u001b[0;32m     13\u001b[0m \u001b[38;5;28mprint\u001b[39m(dataframe)\n",
      "File \u001b[1;32m~\\AppData\\Local\\Packages\\PythonSoftwareFoundation.Python.3.10_qbz5n2kfra8p0\\LocalCache\\local-packages\\Python310\\site-packages\\pandas\\core\\frame.py:5568\u001b[0m, in \u001b[0;36mDataFrame.drop\u001b[1;34m(self, labels, axis, index, columns, level, inplace, errors)\u001b[0m\n\u001b[0;32m   5420\u001b[0m \u001b[38;5;28;01mdef\u001b[39;00m \u001b[38;5;21mdrop\u001b[39m(\n\u001b[0;32m   5421\u001b[0m     \u001b[38;5;28mself\u001b[39m,\n\u001b[0;32m   5422\u001b[0m     labels: IndexLabel \u001b[38;5;241m|\u001b[39m \u001b[38;5;28;01mNone\u001b[39;00m \u001b[38;5;241m=\u001b[39m \u001b[38;5;28;01mNone\u001b[39;00m,\n\u001b[1;32m   (...)\u001b[0m\n\u001b[0;32m   5429\u001b[0m     errors: IgnoreRaise \u001b[38;5;241m=\u001b[39m \u001b[38;5;124m\"\u001b[39m\u001b[38;5;124mraise\u001b[39m\u001b[38;5;124m\"\u001b[39m,\n\u001b[0;32m   5430\u001b[0m ) \u001b[38;5;241m-\u001b[39m\u001b[38;5;241m>\u001b[39m DataFrame \u001b[38;5;241m|\u001b[39m \u001b[38;5;28;01mNone\u001b[39;00m:\n\u001b[0;32m   5431\u001b[0m \u001b[38;5;250m    \u001b[39m\u001b[38;5;124;03m\"\"\"\u001b[39;00m\n\u001b[0;32m   5432\u001b[0m \u001b[38;5;124;03m    Drop specified labels from rows or columns.\u001b[39;00m\n\u001b[0;32m   5433\u001b[0m \n\u001b[1;32m   (...)\u001b[0m\n\u001b[0;32m   5566\u001b[0m \u001b[38;5;124;03m            weight  1.0     0.8\u001b[39;00m\n\u001b[0;32m   5567\u001b[0m \u001b[38;5;124;03m    \"\"\"\u001b[39;00m\n\u001b[1;32m-> 5568\u001b[0m     \u001b[38;5;28;01mreturn\u001b[39;00m \u001b[38;5;28;43msuper\u001b[39;49m\u001b[43m(\u001b[49m\u001b[43m)\u001b[49m\u001b[38;5;241;43m.\u001b[39;49m\u001b[43mdrop\u001b[49m\u001b[43m(\u001b[49m\n\u001b[0;32m   5569\u001b[0m \u001b[43m        \u001b[49m\u001b[43mlabels\u001b[49m\u001b[38;5;241;43m=\u001b[39;49m\u001b[43mlabels\u001b[49m\u001b[43m,\u001b[49m\n\u001b[0;32m   5570\u001b[0m \u001b[43m        \u001b[49m\u001b[43maxis\u001b[49m\u001b[38;5;241;43m=\u001b[39;49m\u001b[43maxis\u001b[49m\u001b[43m,\u001b[49m\n\u001b[0;32m   5571\u001b[0m \u001b[43m        \u001b[49m\u001b[43mindex\u001b[49m\u001b[38;5;241;43m=\u001b[39;49m\u001b[43mindex\u001b[49m\u001b[43m,\u001b[49m\n\u001b[0;32m   5572\u001b[0m \u001b[43m        \u001b[49m\u001b[43mcolumns\u001b[49m\u001b[38;5;241;43m=\u001b[39;49m\u001b[43mcolumns\u001b[49m\u001b[43m,\u001b[49m\n\u001b[0;32m   5573\u001b[0m \u001b[43m        \u001b[49m\u001b[43mlevel\u001b[49m\u001b[38;5;241;43m=\u001b[39;49m\u001b[43mlevel\u001b[49m\u001b[43m,\u001b[49m\n\u001b[0;32m   5574\u001b[0m \u001b[43m        \u001b[49m\u001b[43minplace\u001b[49m\u001b[38;5;241;43m=\u001b[39;49m\u001b[43minplace\u001b[49m\u001b[43m,\u001b[49m\n\u001b[0;32m   5575\u001b[0m \u001b[43m        \u001b[49m\u001b[43merrors\u001b[49m\u001b[38;5;241;43m=\u001b[39;49m\u001b[43merrors\u001b[49m\u001b[43m,\u001b[49m\n\u001b[0;32m   5576\u001b[0m \u001b[43m    \u001b[49m\u001b[43m)\u001b[49m\n",
      "File \u001b[1;32m~\\AppData\\Local\\Packages\\PythonSoftwareFoundation.Python.3.10_qbz5n2kfra8p0\\LocalCache\\local-packages\\Python310\\site-packages\\pandas\\core\\generic.py:4785\u001b[0m, in \u001b[0;36mNDFrame.drop\u001b[1;34m(self, labels, axis, index, columns, level, inplace, errors)\u001b[0m\n\u001b[0;32m   4783\u001b[0m \u001b[38;5;28;01mfor\u001b[39;00m axis, labels \u001b[38;5;129;01min\u001b[39;00m axes\u001b[38;5;241m.\u001b[39mitems():\n\u001b[0;32m   4784\u001b[0m     \u001b[38;5;28;01mif\u001b[39;00m labels \u001b[38;5;129;01mis\u001b[39;00m \u001b[38;5;129;01mnot\u001b[39;00m \u001b[38;5;28;01mNone\u001b[39;00m:\n\u001b[1;32m-> 4785\u001b[0m         obj \u001b[38;5;241m=\u001b[39m \u001b[43mobj\u001b[49m\u001b[38;5;241;43m.\u001b[39;49m\u001b[43m_drop_axis\u001b[49m\u001b[43m(\u001b[49m\u001b[43mlabels\u001b[49m\u001b[43m,\u001b[49m\u001b[43m \u001b[49m\u001b[43maxis\u001b[49m\u001b[43m,\u001b[49m\u001b[43m \u001b[49m\u001b[43mlevel\u001b[49m\u001b[38;5;241;43m=\u001b[39;49m\u001b[43mlevel\u001b[49m\u001b[43m,\u001b[49m\u001b[43m \u001b[49m\u001b[43merrors\u001b[49m\u001b[38;5;241;43m=\u001b[39;49m\u001b[43merrors\u001b[49m\u001b[43m)\u001b[49m\n\u001b[0;32m   4787\u001b[0m \u001b[38;5;28;01mif\u001b[39;00m inplace:\n\u001b[0;32m   4788\u001b[0m     \u001b[38;5;28mself\u001b[39m\u001b[38;5;241m.\u001b[39m_update_inplace(obj)\n",
      "File \u001b[1;32m~\\AppData\\Local\\Packages\\PythonSoftwareFoundation.Python.3.10_qbz5n2kfra8p0\\LocalCache\\local-packages\\Python310\\site-packages\\pandas\\core\\generic.py:4827\u001b[0m, in \u001b[0;36mNDFrame._drop_axis\u001b[1;34m(self, labels, axis, level, errors, only_slice)\u001b[0m\n\u001b[0;32m   4825\u001b[0m         new_axis \u001b[38;5;241m=\u001b[39m axis\u001b[38;5;241m.\u001b[39mdrop(labels, level\u001b[38;5;241m=\u001b[39mlevel, errors\u001b[38;5;241m=\u001b[39merrors)\n\u001b[0;32m   4826\u001b[0m     \u001b[38;5;28;01melse\u001b[39;00m:\n\u001b[1;32m-> 4827\u001b[0m         new_axis \u001b[38;5;241m=\u001b[39m \u001b[43maxis\u001b[49m\u001b[38;5;241;43m.\u001b[39;49m\u001b[43mdrop\u001b[49m\u001b[43m(\u001b[49m\u001b[43mlabels\u001b[49m\u001b[43m,\u001b[49m\u001b[43m \u001b[49m\u001b[43merrors\u001b[49m\u001b[38;5;241;43m=\u001b[39;49m\u001b[43merrors\u001b[49m\u001b[43m)\u001b[49m\n\u001b[0;32m   4828\u001b[0m     indexer \u001b[38;5;241m=\u001b[39m axis\u001b[38;5;241m.\u001b[39mget_indexer(new_axis)\n\u001b[0;32m   4830\u001b[0m \u001b[38;5;66;03m# Case for non-unique axis\u001b[39;00m\n\u001b[0;32m   4831\u001b[0m \u001b[38;5;28;01melse\u001b[39;00m:\n",
      "File \u001b[1;32m~\\AppData\\Local\\Packages\\PythonSoftwareFoundation.Python.3.10_qbz5n2kfra8p0\\LocalCache\\local-packages\\Python310\\site-packages\\pandas\\core\\indexes\\base.py:7070\u001b[0m, in \u001b[0;36mIndex.drop\u001b[1;34m(self, labels, errors)\u001b[0m\n\u001b[0;32m   7068\u001b[0m \u001b[38;5;28;01mif\u001b[39;00m mask\u001b[38;5;241m.\u001b[39many():\n\u001b[0;32m   7069\u001b[0m     \u001b[38;5;28;01mif\u001b[39;00m errors \u001b[38;5;241m!=\u001b[39m \u001b[38;5;124m\"\u001b[39m\u001b[38;5;124mignore\u001b[39m\u001b[38;5;124m\"\u001b[39m:\n\u001b[1;32m-> 7070\u001b[0m         \u001b[38;5;28;01mraise\u001b[39;00m \u001b[38;5;167;01mKeyError\u001b[39;00m(\u001b[38;5;124mf\u001b[39m\u001b[38;5;124m\"\u001b[39m\u001b[38;5;132;01m{\u001b[39;00mlabels[mask]\u001b[38;5;241m.\u001b[39mtolist()\u001b[38;5;132;01m}\u001b[39;00m\u001b[38;5;124m not found in axis\u001b[39m\u001b[38;5;124m\"\u001b[39m)\n\u001b[0;32m   7071\u001b[0m     indexer \u001b[38;5;241m=\u001b[39m indexer[\u001b[38;5;241m~\u001b[39mmask]\n\u001b[0;32m   7072\u001b[0m \u001b[38;5;28;01mreturn\u001b[39;00m \u001b[38;5;28mself\u001b[39m\u001b[38;5;241m.\u001b[39mdelete(indexer)\n",
      "\u001b[1;31mKeyError\u001b[0m: \"['user_id', 'isbn', 'img_l'] not found in axis\""
     ]
    }
   ],
   "source": [
    "#Vamos agora eliminar as colunas que, a partir do conehcimento do problema, sabemos que \n",
    "#não agregam informação relevante para as nossas inferências\n",
    "    #Debbug para verificar se não está tirando colunas que não existem\n",
    "    # Obtenha a lista de nomes das colunas\n",
    "    #nomes_colunas = list(dataframe.columns)\n",
    "    # Imprima os nomes das colunas\n",
    "    #print(f\"Nomes das colunas: {nomes_colunas}\")\n",
    "dataframe = dataframe.drop(columns=[\"user_id\", \"isbn\", \"img_l\"])\n",
    "print(dataframe)"
   ]
  }
 ],
 "metadata": {
  "kernelspec": {
   "display_name": "Python 3",
   "language": "python",
   "name": "python3"
  },
  "language_info": {
   "codemirror_mode": {
    "name": "ipython",
    "version": 3
   },
   "file_extension": ".py",
   "mimetype": "text/x-python",
   "name": "python",
   "nbconvert_exporter": "python",
   "pygments_lexer": "ipython3",
   "version": "3.10.11"
  }
 },
 "nbformat": 4,
 "nbformat_minor": 2
}
